{
 "cells": [
  {
   "cell_type": "markdown",
   "metadata": {},
   "source": [
    "## Задание 1.\n",
    "#### Приведите по 2 примера, когда лучше максимизировать Precision, а когда Recall.\n",
    "\n",
    "### Precision\n",
    "Сервисы рекомендаций. Результаты должны как можно более соответствовать предпочтениям пользователя.\n",
    "Распознавание чего-либо на изображении. Результаты должны как можно более соответствовать распознаваемому образу.\n",
    "\n",
    "### Recall\n",
    "Алгоритм, ставящий диагноз (допустим есть рак или нет), не должен пропустить потенциально возможный рак.\n",
    "Fraud операции (мошенничество по картам). Ошибочно отрицательные срабатывания намного опаснее ложно положительных.\n",
    "\n",
    "## Задание 2.\n",
    "#### Почему мы используем F-меру, почему, например, нельзя просто взять среднее от Precision и Recall?\n",
    "\n",
    "Precision и Recall рассчитываются от разного количества объектов.\n",
    "Поэтому вместо обычного среднего лучше взять F-меру (гармоническое среднее)."
   ]
  },
  {
   "cell_type": "code",
   "execution_count": null,
   "metadata": {},
   "outputs": [],
   "source": []
  }
 ],
 "metadata": {
  "kernelspec": {
   "display_name": "Python 3",
   "language": "python",
   "name": "python3"
  },
  "language_info": {
   "codemirror_mode": {
    "name": "ipython",
    "version": 3
   },
   "file_extension": ".py",
   "mimetype": "text/x-python",
   "name": "python",
   "nbconvert_exporter": "python",
   "pygments_lexer": "ipython3",
   "version": "3.7.6"
  }
 },
 "nbformat": 4,
 "nbformat_minor": 4
}
