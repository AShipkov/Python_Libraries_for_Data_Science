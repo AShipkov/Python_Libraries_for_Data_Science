{
 "cells": [
  {
   "cell_type": "markdown",
   "metadata": {},
   "source": [
    "## Задание 1\n",
    "### В чём различие между зависимыми и независимыми выборками?\n",
    "В случае с независимыми выборками вероятность выбора объекта из одной выборки не влияет на выбор объекта из другой.  \n",
    "Пример: male and female в списке.  \n",
    "В случае с зависимыми выборками выбор объекта из одной выборки влияет на выбор из другой.  \n",
    "Пример: одна и та же выборка до и после воздействия.\n",
    "\n",
    "## Задание 2\n",
    "### Когда применяются параметрические статистические критерии, а когда — их непараметрические аналоги?\n",
    "Параметрические статистические критерии применяются для нормального и близких к нормальному распределений.  \n",
    "Непараметрические аналоги - в случаях распределений, отличных от нормального"
   ]
  },
  {
   "cell_type": "code",
   "execution_count": 1,
   "metadata": {},
   "outputs": [
    {
     "data": {
      "text/plain": [
       "1"
      ]
     },
     "execution_count": 1,
     "metadata": {},
     "output_type": "execute_result"
    }
   ],
   "source": [
    "1"
   ]
  },
  {
   "cell_type": "code",
   "execution_count": null,
   "metadata": {},
   "outputs": [],
   "source": []
  }
 ],
 "metadata": {
  "kernelspec": {
   "display_name": "Python 3",
   "language": "python",
   "name": "python3"
  },
  "language_info": {
   "codemirror_mode": {
    "name": "ipython",
    "version": 3
   },
   "file_extension": ".py",
   "mimetype": "text/x-python",
   "name": "python",
   "nbconvert_exporter": "python",
   "pygments_lexer": "ipython3",
   "version": "3.7.6"
  }
 },
 "nbformat": 4,
 "nbformat_minor": 4
}
